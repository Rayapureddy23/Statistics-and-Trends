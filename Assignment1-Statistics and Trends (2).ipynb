{
 "cells": [
  {
   "cell_type": "code",
   "execution_count": null,
   "id": "2c8903f5-37cd-4477-9a08-ad4fef3b3628",
   "metadata": {},
   "outputs": [],
   "source": []
  },
  {
   "cell_type": "markdown",
   "id": "6a34dd8b-e3f7-48c5-8cac-003f52e6aaa2",
   "metadata": {},
   "source": [
    "# STASTISTICS AND TRENDS\n",
    "Student id - 23084698\n",
    "\n",
    "Name - Dharmendra Kumar Reddy Rayapureddy"
   ]
  },
  {
   "cell_type": "code",
   "execution_count": 30,
   "id": "3a0fac27-df6d-4c72-acf5-f79962fbc51b",
   "metadata": {},
   "outputs": [],
   "source": [
    "#importing Libraries\n",
    "import numpy as np #importing numpy\n",
    "import pandas as pd #import pandas\n",
    "import matplotlib.pyplot as plt #importing matplotlib"
   ]
  },
  {
   "cell_type": "code",
   "execution_count": 19,
   "id": "f5c317a6-b13f-4a22-ba6d-9c2cfa474b67",
   "metadata": {},
   "outputs": [],
   "source": [
    "data = pd.read_csv(\"C:\\\\Users\\\\nevur\\\\OneDrive\\\\Desktop\\\\CarsData.csv\") # Exporting the DataFrame to a CSV file\n",
    "df = pd.DataFrame(data)"
   ]
  },
  {
   "cell_type": "code",
   "execution_count": 21,
   "id": "6a6d2391-53f0-49e6-8959-fe53f4e2e2a7",
   "metadata": {},
   "outputs": [
    {
     "data": {
      "text/html": [
       "<div>\n",
       "<style scoped>\n",
       "    .dataframe tbody tr th:only-of-type {\n",
       "        vertical-align: middle;\n",
       "    }\n",
       "\n",
       "    .dataframe tbody tr th {\n",
       "        vertical-align: top;\n",
       "    }\n",
       "\n",
       "    .dataframe thead th {\n",
       "        text-align: right;\n",
       "    }\n",
       "</style>\n",
       "<table border=\"1\" class=\"dataframe\">\n",
       "  <thead>\n",
       "    <tr style=\"text-align: right;\">\n",
       "      <th></th>\n",
       "      <th>model</th>\n",
       "      <th>year</th>\n",
       "      <th>price</th>\n",
       "      <th>transmission</th>\n",
       "      <th>mileage</th>\n",
       "      <th>fuelType</th>\n",
       "      <th>tax</th>\n",
       "      <th>mpg</th>\n",
       "      <th>engineSize</th>\n",
       "      <th>Manufacturer</th>\n",
       "    </tr>\n",
       "  </thead>\n",
       "  <tbody>\n",
       "    <tr>\n",
       "      <th>0</th>\n",
       "      <td>I10</td>\n",
       "      <td>2017</td>\n",
       "      <td>7495</td>\n",
       "      <td>Manual</td>\n",
       "      <td>11630</td>\n",
       "      <td>Petrol</td>\n",
       "      <td>145</td>\n",
       "      <td>60.1</td>\n",
       "      <td>1.0</td>\n",
       "      <td>hyundi</td>\n",
       "    </tr>\n",
       "    <tr>\n",
       "      <th>1</th>\n",
       "      <td>Polo</td>\n",
       "      <td>2017</td>\n",
       "      <td>10989</td>\n",
       "      <td>Manual</td>\n",
       "      <td>9200</td>\n",
       "      <td>Petrol</td>\n",
       "      <td>145</td>\n",
       "      <td>58.9</td>\n",
       "      <td>1.0</td>\n",
       "      <td>volkswagen</td>\n",
       "    </tr>\n",
       "    <tr>\n",
       "      <th>2</th>\n",
       "      <td>2 Series</td>\n",
       "      <td>2019</td>\n",
       "      <td>27990</td>\n",
       "      <td>Semi-Auto</td>\n",
       "      <td>1614</td>\n",
       "      <td>Diesel</td>\n",
       "      <td>145</td>\n",
       "      <td>49.6</td>\n",
       "      <td>2.0</td>\n",
       "      <td>BMW</td>\n",
       "    </tr>\n",
       "    <tr>\n",
       "      <th>3</th>\n",
       "      <td>Yeti Outdoor</td>\n",
       "      <td>2017</td>\n",
       "      <td>12495</td>\n",
       "      <td>Manual</td>\n",
       "      <td>30960</td>\n",
       "      <td>Diesel</td>\n",
       "      <td>150</td>\n",
       "      <td>62.8</td>\n",
       "      <td>2.0</td>\n",
       "      <td>skoda</td>\n",
       "    </tr>\n",
       "    <tr>\n",
       "      <th>4</th>\n",
       "      <td>Fiesta</td>\n",
       "      <td>2017</td>\n",
       "      <td>7999</td>\n",
       "      <td>Manual</td>\n",
       "      <td>19353</td>\n",
       "      <td>Petrol</td>\n",
       "      <td>125</td>\n",
       "      <td>54.3</td>\n",
       "      <td>1.2</td>\n",
       "      <td>ford</td>\n",
       "    </tr>\n",
       "    <tr>\n",
       "      <th>...</th>\n",
       "      <td>...</td>\n",
       "      <td>...</td>\n",
       "      <td>...</td>\n",
       "      <td>...</td>\n",
       "      <td>...</td>\n",
       "      <td>...</td>\n",
       "      <td>...</td>\n",
       "      <td>...</td>\n",
       "      <td>...</td>\n",
       "      <td>...</td>\n",
       "    </tr>\n",
       "    <tr>\n",
       "      <th>97707</th>\n",
       "      <td>Fiesta</td>\n",
       "      <td>2017</td>\n",
       "      <td>10447</td>\n",
       "      <td>Automatic</td>\n",
       "      <td>8337</td>\n",
       "      <td>Petrol</td>\n",
       "      <td>145</td>\n",
       "      <td>54.3</td>\n",
       "      <td>1.0</td>\n",
       "      <td>ford</td>\n",
       "    </tr>\n",
       "    <tr>\n",
       "      <th>97708</th>\n",
       "      <td>3 Series</td>\n",
       "      <td>2014</td>\n",
       "      <td>14995</td>\n",
       "      <td>Manual</td>\n",
       "      <td>25372</td>\n",
       "      <td>Diesel</td>\n",
       "      <td>30</td>\n",
       "      <td>61.4</td>\n",
       "      <td>2.0</td>\n",
       "      <td>BMW</td>\n",
       "    </tr>\n",
       "    <tr>\n",
       "      <th>97709</th>\n",
       "      <td>Fiesta</td>\n",
       "      <td>2017</td>\n",
       "      <td>8950</td>\n",
       "      <td>Manual</td>\n",
       "      <td>19910</td>\n",
       "      <td>Petrol</td>\n",
       "      <td>125</td>\n",
       "      <td>54.3</td>\n",
       "      <td>1.2</td>\n",
       "      <td>ford</td>\n",
       "    </tr>\n",
       "    <tr>\n",
       "      <th>97710</th>\n",
       "      <td>Astra</td>\n",
       "      <td>2017</td>\n",
       "      <td>10700</td>\n",
       "      <td>Automatic</td>\n",
       "      <td>24468</td>\n",
       "      <td>Petrol</td>\n",
       "      <td>125</td>\n",
       "      <td>50.4</td>\n",
       "      <td>1.4</td>\n",
       "      <td>vauxhall</td>\n",
       "    </tr>\n",
       "    <tr>\n",
       "      <th>97711</th>\n",
       "      <td>Grandland X</td>\n",
       "      <td>2019</td>\n",
       "      <td>15798</td>\n",
       "      <td>Manual</td>\n",
       "      <td>10586</td>\n",
       "      <td>Diesel</td>\n",
       "      <td>150</td>\n",
       "      <td>48.7</td>\n",
       "      <td>1.5</td>\n",
       "      <td>vauxhall</td>\n",
       "    </tr>\n",
       "  </tbody>\n",
       "</table>\n",
       "<p>97712 rows × 10 columns</p>\n",
       "</div>"
      ],
      "text/plain": [
       "               model  year  price transmission  mileage fuelType  tax   mpg  \\\n",
       "0                I10  2017   7495       Manual    11630   Petrol  145  60.1   \n",
       "1               Polo  2017  10989       Manual     9200   Petrol  145  58.9   \n",
       "2           2 Series  2019  27990    Semi-Auto     1614   Diesel  145  49.6   \n",
       "3       Yeti Outdoor  2017  12495       Manual    30960   Diesel  150  62.8   \n",
       "4             Fiesta  2017   7999       Manual    19353   Petrol  125  54.3   \n",
       "...              ...   ...    ...          ...      ...      ...  ...   ...   \n",
       "97707         Fiesta  2017  10447    Automatic     8337   Petrol  145  54.3   \n",
       "97708       3 Series  2014  14995       Manual    25372   Diesel   30  61.4   \n",
       "97709         Fiesta  2017   8950       Manual    19910   Petrol  125  54.3   \n",
       "97710          Astra  2017  10700    Automatic    24468   Petrol  125  50.4   \n",
       "97711    Grandland X  2019  15798       Manual    10586   Diesel  150  48.7   \n",
       "\n",
       "       engineSize Manufacturer  \n",
       "0             1.0       hyundi  \n",
       "1             1.0   volkswagen  \n",
       "2             2.0          BMW  \n",
       "3             2.0        skoda  \n",
       "4             1.2         ford  \n",
       "...           ...          ...  \n",
       "97707         1.0         ford  \n",
       "97708         2.0          BMW  \n",
       "97709         1.2         ford  \n",
       "97710         1.4     vauxhall  \n",
       "97711         1.5     vauxhall  \n",
       "\n",
       "[97712 rows x 10 columns]"
      ]
     },
     "execution_count": 21,
     "metadata": {},
     "output_type": "execute_result"
    }
   ],
   "source": [
    "df #print the data"
   ]
  },
  {
   "cell_type": "code",
   "execution_count": 8,
   "id": "bb0ddc18-a6c2-46a1-b1b0-bf9893f62c26",
   "metadata": {},
   "outputs": [
    {
     "data": {
      "text/plain": [
       "(97712, 10)"
      ]
     },
     "execution_count": 8,
     "metadata": {},
     "output_type": "execute_result"
    }
   ],
   "source": [
    "df.shape # It shows the size of the Data (rows,columns)"
   ]
  },
  {
   "cell_type": "code",
   "execution_count": 10,
   "id": "723cec1f-bb5f-4167-9797-7aaa08e31d11",
   "metadata": {},
   "outputs": [
    {
     "data": {
      "text/html": [
       "<div>\n",
       "<style scoped>\n",
       "    .dataframe tbody tr th:only-of-type {\n",
       "        vertical-align: middle;\n",
       "    }\n",
       "\n",
       "    .dataframe tbody tr th {\n",
       "        vertical-align: top;\n",
       "    }\n",
       "\n",
       "    .dataframe thead th {\n",
       "        text-align: right;\n",
       "    }\n",
       "</style>\n",
       "<table border=\"1\" class=\"dataframe\">\n",
       "  <thead>\n",
       "    <tr style=\"text-align: right;\">\n",
       "      <th></th>\n",
       "      <th>model</th>\n",
       "      <th>year</th>\n",
       "      <th>price</th>\n",
       "      <th>transmission</th>\n",
       "      <th>mileage</th>\n",
       "      <th>fuelType</th>\n",
       "      <th>tax</th>\n",
       "      <th>mpg</th>\n",
       "      <th>engineSize</th>\n",
       "      <th>Manufacturer</th>\n",
       "    </tr>\n",
       "  </thead>\n",
       "  <tbody>\n",
       "    <tr>\n",
       "      <th>0</th>\n",
       "      <td>I10</td>\n",
       "      <td>2017</td>\n",
       "      <td>7495</td>\n",
       "      <td>Manual</td>\n",
       "      <td>11630</td>\n",
       "      <td>Petrol</td>\n",
       "      <td>145</td>\n",
       "      <td>60.1</td>\n",
       "      <td>1.0</td>\n",
       "      <td>hyundi</td>\n",
       "    </tr>\n",
       "    <tr>\n",
       "      <th>1</th>\n",
       "      <td>Polo</td>\n",
       "      <td>2017</td>\n",
       "      <td>10989</td>\n",
       "      <td>Manual</td>\n",
       "      <td>9200</td>\n",
       "      <td>Petrol</td>\n",
       "      <td>145</td>\n",
       "      <td>58.9</td>\n",
       "      <td>1.0</td>\n",
       "      <td>volkswagen</td>\n",
       "    </tr>\n",
       "    <tr>\n",
       "      <th>2</th>\n",
       "      <td>2 Series</td>\n",
       "      <td>2019</td>\n",
       "      <td>27990</td>\n",
       "      <td>Semi-Auto</td>\n",
       "      <td>1614</td>\n",
       "      <td>Diesel</td>\n",
       "      <td>145</td>\n",
       "      <td>49.6</td>\n",
       "      <td>2.0</td>\n",
       "      <td>BMW</td>\n",
       "    </tr>\n",
       "    <tr>\n",
       "      <th>3</th>\n",
       "      <td>Yeti Outdoor</td>\n",
       "      <td>2017</td>\n",
       "      <td>12495</td>\n",
       "      <td>Manual</td>\n",
       "      <td>30960</td>\n",
       "      <td>Diesel</td>\n",
       "      <td>150</td>\n",
       "      <td>62.8</td>\n",
       "      <td>2.0</td>\n",
       "      <td>skoda</td>\n",
       "    </tr>\n",
       "    <tr>\n",
       "      <th>4</th>\n",
       "      <td>Fiesta</td>\n",
       "      <td>2017</td>\n",
       "      <td>7999</td>\n",
       "      <td>Manual</td>\n",
       "      <td>19353</td>\n",
       "      <td>Petrol</td>\n",
       "      <td>125</td>\n",
       "      <td>54.3</td>\n",
       "      <td>1.2</td>\n",
       "      <td>ford</td>\n",
       "    </tr>\n",
       "    <tr>\n",
       "      <th>5</th>\n",
       "      <td>C-HR</td>\n",
       "      <td>2019</td>\n",
       "      <td>26791</td>\n",
       "      <td>Automatic</td>\n",
       "      <td>2373</td>\n",
       "      <td>Hybrid</td>\n",
       "      <td>135</td>\n",
       "      <td>74.3</td>\n",
       "      <td>1.8</td>\n",
       "      <td>toyota</td>\n",
       "    </tr>\n",
       "    <tr>\n",
       "      <th>6</th>\n",
       "      <td>Kuga</td>\n",
       "      <td>2019</td>\n",
       "      <td>17990</td>\n",
       "      <td>Manual</td>\n",
       "      <td>7038</td>\n",
       "      <td>Petrol</td>\n",
       "      <td>145</td>\n",
       "      <td>34.4</td>\n",
       "      <td>1.5</td>\n",
       "      <td>ford</td>\n",
       "    </tr>\n",
       "    <tr>\n",
       "      <th>7</th>\n",
       "      <td>Tiguan</td>\n",
       "      <td>2019</td>\n",
       "      <td>27490</td>\n",
       "      <td>Semi-Auto</td>\n",
       "      <td>3000</td>\n",
       "      <td>Petrol</td>\n",
       "      <td>145</td>\n",
       "      <td>30.4</td>\n",
       "      <td>2.0</td>\n",
       "      <td>volkswagen</td>\n",
       "    </tr>\n",
       "    <tr>\n",
       "      <th>8</th>\n",
       "      <td>Fiesta</td>\n",
       "      <td>2018</td>\n",
       "      <td>9891</td>\n",
       "      <td>Manual</td>\n",
       "      <td>31639</td>\n",
       "      <td>Petrol</td>\n",
       "      <td>145</td>\n",
       "      <td>65.7</td>\n",
       "      <td>1.0</td>\n",
       "      <td>ford</td>\n",
       "    </tr>\n",
       "    <tr>\n",
       "      <th>9</th>\n",
       "      <td>A Class</td>\n",
       "      <td>2017</td>\n",
       "      <td>17498</td>\n",
       "      <td>Manual</td>\n",
       "      <td>9663</td>\n",
       "      <td>Diesel</td>\n",
       "      <td>30</td>\n",
       "      <td>62.8</td>\n",
       "      <td>2.1</td>\n",
       "      <td>merc</td>\n",
       "    </tr>\n",
       "  </tbody>\n",
       "</table>\n",
       "</div>"
      ],
      "text/plain": [
       "           model  year  price transmission  mileage fuelType  tax   mpg  \\\n",
       "0            I10  2017   7495       Manual    11630   Petrol  145  60.1   \n",
       "1           Polo  2017  10989       Manual     9200   Petrol  145  58.9   \n",
       "2       2 Series  2019  27990    Semi-Auto     1614   Diesel  145  49.6   \n",
       "3   Yeti Outdoor  2017  12495       Manual    30960   Diesel  150  62.8   \n",
       "4         Fiesta  2017   7999       Manual    19353   Petrol  125  54.3   \n",
       "5           C-HR  2019  26791    Automatic     2373   Hybrid  135  74.3   \n",
       "6           Kuga  2019  17990       Manual     7038   Petrol  145  34.4   \n",
       "7         Tiguan  2019  27490    Semi-Auto     3000   Petrol  145  30.4   \n",
       "8         Fiesta  2018   9891       Manual    31639   Petrol  145  65.7   \n",
       "9        A Class  2017  17498       Manual     9663   Diesel   30  62.8   \n",
       "\n",
       "   engineSize Manufacturer  \n",
       "0         1.0       hyundi  \n",
       "1         1.0   volkswagen  \n",
       "2         2.0          BMW  \n",
       "3         2.0        skoda  \n",
       "4         1.2         ford  \n",
       "5         1.8       toyota  \n",
       "6         1.5         ford  \n",
       "7         2.0   volkswagen  \n",
       "8         1.0         ford  \n",
       "9         2.1         merc  "
      ]
     },
     "execution_count": 10,
     "metadata": {},
     "output_type": "execute_result"
    }
   ],
   "source": [
    "df.head(10) #Showing the first ten rows in a data."
   ]
  },
  {
   "cell_type": "code",
   "execution_count": 12,
   "id": "fcd8f906-3b3b-4d9d-8be6-71d6d98127d0",
   "metadata": {},
   "outputs": [
    {
     "data": {
      "text/html": [
       "<div>\n",
       "<style scoped>\n",
       "    .dataframe tbody tr th:only-of-type {\n",
       "        vertical-align: middle;\n",
       "    }\n",
       "\n",
       "    .dataframe tbody tr th {\n",
       "        vertical-align: top;\n",
       "    }\n",
       "\n",
       "    .dataframe thead th {\n",
       "        text-align: right;\n",
       "    }\n",
       "</style>\n",
       "<table border=\"1\" class=\"dataframe\">\n",
       "  <thead>\n",
       "    <tr style=\"text-align: right;\">\n",
       "      <th></th>\n",
       "      <th>year</th>\n",
       "      <th>price</th>\n",
       "      <th>mileage</th>\n",
       "      <th>tax</th>\n",
       "      <th>mpg</th>\n",
       "      <th>engineSize</th>\n",
       "    </tr>\n",
       "  </thead>\n",
       "  <tbody>\n",
       "    <tr>\n",
       "      <th>count</th>\n",
       "      <td>97712.000000</td>\n",
       "      <td>97712.000000</td>\n",
       "      <td>97712.000000</td>\n",
       "      <td>97712.000000</td>\n",
       "      <td>97712.000000</td>\n",
       "      <td>97712.000000</td>\n",
       "    </tr>\n",
       "    <tr>\n",
       "      <th>mean</th>\n",
       "      <td>2017.066502</td>\n",
       "      <td>16773.487555</td>\n",
       "      <td>23219.475499</td>\n",
       "      <td>120.142408</td>\n",
       "      <td>55.205623</td>\n",
       "      <td>1.664913</td>\n",
       "    </tr>\n",
       "    <tr>\n",
       "      <th>std</th>\n",
       "      <td>2.118661</td>\n",
       "      <td>9868.552222</td>\n",
       "      <td>21060.882301</td>\n",
       "      <td>63.357250</td>\n",
       "      <td>16.181659</td>\n",
       "      <td>0.558574</td>\n",
       "    </tr>\n",
       "    <tr>\n",
       "      <th>min</th>\n",
       "      <td>1970.000000</td>\n",
       "      <td>450.000000</td>\n",
       "      <td>1.000000</td>\n",
       "      <td>0.000000</td>\n",
       "      <td>0.300000</td>\n",
       "      <td>0.000000</td>\n",
       "    </tr>\n",
       "    <tr>\n",
       "      <th>25%</th>\n",
       "      <td>2016.000000</td>\n",
       "      <td>9999.000000</td>\n",
       "      <td>7673.000000</td>\n",
       "      <td>125.000000</td>\n",
       "      <td>47.100000</td>\n",
       "      <td>1.200000</td>\n",
       "    </tr>\n",
       "    <tr>\n",
       "      <th>50%</th>\n",
       "      <td>2017.000000</td>\n",
       "      <td>14470.000000</td>\n",
       "      <td>17682.500000</td>\n",
       "      <td>145.000000</td>\n",
       "      <td>54.300000</td>\n",
       "      <td>1.600000</td>\n",
       "    </tr>\n",
       "    <tr>\n",
       "      <th>75%</th>\n",
       "      <td>2019.000000</td>\n",
       "      <td>20750.000000</td>\n",
       "      <td>32500.000000</td>\n",
       "      <td>145.000000</td>\n",
       "      <td>62.800000</td>\n",
       "      <td>2.000000</td>\n",
       "    </tr>\n",
       "    <tr>\n",
       "      <th>max</th>\n",
       "      <td>2024.000000</td>\n",
       "      <td>159999.000000</td>\n",
       "      <td>323000.000000</td>\n",
       "      <td>580.000000</td>\n",
       "      <td>470.800000</td>\n",
       "      <td>6.600000</td>\n",
       "    </tr>\n",
       "  </tbody>\n",
       "</table>\n",
       "</div>"
      ],
      "text/plain": [
       "               year          price        mileage           tax           mpg  \\\n",
       "count  97712.000000   97712.000000   97712.000000  97712.000000  97712.000000   \n",
       "mean    2017.066502   16773.487555   23219.475499    120.142408     55.205623   \n",
       "std        2.118661    9868.552222   21060.882301     63.357250     16.181659   \n",
       "min     1970.000000     450.000000       1.000000      0.000000      0.300000   \n",
       "25%     2016.000000    9999.000000    7673.000000    125.000000     47.100000   \n",
       "50%     2017.000000   14470.000000   17682.500000    145.000000     54.300000   \n",
       "75%     2019.000000   20750.000000   32500.000000    145.000000     62.800000   \n",
       "max     2024.000000  159999.000000  323000.000000    580.000000    470.800000   \n",
       "\n",
       "         engineSize  \n",
       "count  97712.000000  \n",
       "mean       1.664913  \n",
       "std        0.558574  \n",
       "min        0.000000  \n",
       "25%        1.200000  \n",
       "50%        1.600000  \n",
       "75%        2.000000  \n",
       "max        6.600000  "
      ]
     },
     "execution_count": 12,
     "metadata": {},
     "output_type": "execute_result"
    }
   ],
   "source": [
    "df.describe() #Calculating the mean,median,Std,min,max of the data."
   ]
  },
  {
   "cell_type": "markdown",
   "id": "6bbc3ff7-a137-4af1-ace7-87653827fd17",
   "metadata": {},
   "source": [
    "# Plotting the scatter graph"
   ]
  },
  {
   "cell_type": "code",
   "execution_count": 23,
   "id": "efea9b4f-a27c-454c-9288-d59edd8d046f",
   "metadata": {},
   "outputs": [
    {
     "data": {
      "image/png": "[encoded data removed]",
      "text/plain": [
       "<Figure size 640x480 with 1 Axes>"
      ]
     },
     "metadata": {},
     "output_type": "display_data"
    }
   ],
   "source": [
    "scatter_plot = plt.scatter(x = \"year\", y = \"price\",data = df,s=4) #creating the scatter plot\n",
    "plt.xlabel(\"year\") # x-label\n",
    "plt.ylabel(\" car price\") # y-label\n",
    "plt.legend([\"Car Prices\"]) \n",
    "plt.title(\"Car Prices Over the Years\") # Title of the graph\n",
    "plt.show() # Displaying the graph\n"
   ]
  },
  {
   "cell_type": "markdown",
   "id": "5b801e4d-b3cf-4506-b2e7-ed3d7bcca3c5",
   "metadata": {},
   "source": [
    "# Plotting the Histogram graph"
   ]
  },
  {
   "cell_type": "code",
   "execution_count": 179,
   "id": "0be155b8-bbad-413c-a4c0-386de25c88a7",
   "metadata": {
    "scrolled": true
   },
   "outputs": [
    {
     "data": {
      "image/png": "[encoded data removed]",
      "text/plain": [
       "<Figure size 640x480 with 1 Axes>"
      ]
     },
     "metadata": {},
     "output_type": "display_data"
    }
   ],
   "source": [
    "Histogram = plt.hist(df[\"year\"],bins= 100, edgecolor='black') #creating the histogram plot\n",
    "plt.xlabel(\"years\") # x-labels and y-labels\n",
    "plt.ylabel(\"car price\")\n",
    "plt.legend([\"Car Prices\"]) # title of the Graph\n",
    "plt.title(\"histogram plot of Car Price\")\n",
    "plt.grid(axis= 'y',alpha = 0.75) # grid \n",
    "plt.show()"
   ]
  },
  {
   "cell_type": "markdown",
   "id": "b70508f9-fdc9-4150-b585-55dd8e955a60",
   "metadata": {},
   "source": [
    "# Plotting the violin graph"
   ]
  },
  {
   "cell_type": "code",
   "execution_count": 170,
   "id": "e9305b16-5704-4968-ba51-a09f2f2b6d4e",
   "metadata": {},
   "outputs": [
    {
     "data": {
      "image/png": "[encoded data removed]",
      "text/plain": [
       "<Figure size 640x480 with 1 Axes>"
      ]
     },
     "metadata": {},
     "output_type": "display_data"
    }
   ],
   "source": [
    "violin_plot= plt.violinplot(df[\"price\"],showmeans = True) # creating the violin plot\n",
    "plt.ylabel(\" car price\")\n",
    "plt.legend([\"Car Prices\"],loc = 'upper left') # locating the legend \n",
    "plt.title(\"Violin Plot of Car Price\") #title of the graph\n",
    "plt.show()"
   ]
  },
  {
   "cell_type": "code",
   "execution_count": 155,
   "id": "260b58bd-49d3-4955-a3eb-20aba4376d70",
   "metadata": {},
   "outputs": [],
   "source": [
    "import pandas as pd\n",
    "from scipy.stats import skew, kurtosis # importing the kurtosis and skew.\n",
    "\n",
    "\n",
    "\n",
    "skewness = df['price'].skew() # Calculating the Skewness. \n",
    "kurtosis = df['price'].kurtosis() # calculating the kurtosis.\n",
    "correlation = df['year'].corr(df['price']) # finding the correlation between Year and Price."
   ]
  },
  {
   "cell_type": "code",
   "execution_count": 105,
   "id": "65412662-2947-412f-b3c7-c02b324c97bb",
   "metadata": {},
   "outputs": [
    {
     "data": {
      "text/plain": [
       "2.3638480252065697"
      ]
     },
     "execution_count": 105,
     "metadata": {},
     "output_type": "execute_result"
    }
   ],
   "source": [
    "skewness"
   ]
  },
  {
   "cell_type": "code",
   "execution_count": 107,
   "id": "9948a3a5-91b2-4432-993d-8bb84df8f54f",
   "metadata": {},
   "outputs": [
    {
     "data": {
      "text/plain": [
       "12.465307968403337"
      ]
     },
     "execution_count": 107,
     "metadata": {},
     "output_type": "execute_result"
    }
   ],
   "source": [
    "kurtosis"
   ]
  },
  {
   "cell_type": "code",
   "execution_count": 109,
   "id": "291e9872-7317-462b-912f-8fd39a46d244",
   "metadata": {},
   "outputs": [
    {
     "data": {
      "text/plain": [
       "0.49249119925114343"
      ]
     },
     "execution_count": 109,
     "metadata": {},
     "output_type": "execute_result"
    }
   ],
   "source": [
    "correlation"
   ]
  },
  {
   "cell_type": "code",
   "execution_count": null,
   "id": "6b8643da-f776-4d70-b18a-265e0271cc66",
   "metadata": {},
   "outputs": [],
   "source": []
  }
 ],
 "metadata": {
  "kernelspec": {
   "display_name": "Python 3 (ipykernel)",
   "language": "python",
   "name": "python3"
  },
  "language_info": {
   "codemirror_mode": {
    "name": "ipython",
    "version": 3
   },
   "file_extension": ".py",
   "mimetype": "text/x-python",
   "name": "python",
   "nbconvert_exporter": "python",
   "pygments_lexer": "ipython3",
   "version": "3.12.7"
  }
 },
 "nbformat": 4,
 "nbformat_minor": 5
}
